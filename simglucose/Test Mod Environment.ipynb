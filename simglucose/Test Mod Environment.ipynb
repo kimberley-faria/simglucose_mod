{
 "cells": [
  {
   "cell_type": "code",
   "execution_count": 1,
   "id": "cdddc5b2",
   "metadata": {},
   "outputs": [],
   "source": [
    "import sys\n",
    "\n",
    "sys.path.append(r'C:/Users/faria/PycharmProjects/simglucose_mod')\n",
    "import simglucose"
   ]
  },
  {
   "cell_type": "code",
   "execution_count": 2,
   "id": "655c227d",
   "metadata": {},
   "outputs": [
    {
     "name": "stderr",
     "output_type": "stream",
     "text": [
      "C:\\Users\\faria\\anaconda3\\lib\\site-packages\\gym\\envs\\registration.py:17: PkgResourcesDeprecationWarning: Parameters to load are deprecated.  Call .resolve and .require separately.\n",
      "  result = entry_point.load(False)\n",
      "<frozen importlib._bootstrap>:228: RuntimeWarning: scipy._lib.messagestream.MessageStream size changed, may indicate binary incompatibility. Expected 56 from C header, got 64 from PyObject\n"
     ]
    }
   ],
   "source": [
    "import gym\n",
    "\n",
    "# Register gym environment. By specifying kwargs,\n",
    "# you are able to choose which patient to simulate.\n",
    "# patient_name must be 'adolescent#001' to 'adolescent#010',\n",
    "# or 'adult#001' to 'adult#010', or 'child#001' to 'child#010'\n",
    "from gym.envs.registration import register\n",
    "register(\n",
    "    id='simglucose-adolescent2-v0',\n",
    "    entry_point='simglucose.envs:ModT1DSimEnv',\n",
    "    kwargs={'patient_name': 'adolescent#001'}\n",
    ")\n",
    "\n",
    "env = gym.make('simglucose-adolescent2-v0')"
   ]
  },
  {
   "cell_type": "code",
   "execution_count": 3,
   "id": "f38b07c8",
   "metadata": {},
   "outputs": [],
   "source": [
    "import numpy as np"
   ]
  },
  {
   "cell_type": "code",
   "execution_count": 4,
   "id": "30e6a3ae",
   "metadata": {},
   "outputs": [],
   "source": [
    "obs, reward, action, info = env.reset()"
   ]
  },
  {
   "cell_type": "code",
   "execution_count": 5,
   "id": "0bf21bff",
   "metadata": {},
   "outputs": [
    {
     "ename": "ModuleNotFoundError",
     "evalue": "No module named 'simglucose.controller.basal_bolus_controller'",
     "output_type": "error",
     "traceback": [
      "\u001b[1;31m---------------------------------------------------------------------------\u001b[0m",
      "\u001b[1;31mModuleNotFoundError\u001b[0m                       Traceback (most recent call last)",
      "\u001b[1;32m~\\AppData\\Local\\Temp/ipykernel_16756/3840695763.py\u001b[0m in \u001b[0;36m<module>\u001b[1;34m\u001b[0m\n\u001b[1;32m----> 1\u001b[1;33m \u001b[1;32mfrom\u001b[0m \u001b[0msimglucose\u001b[0m\u001b[1;33m.\u001b[0m\u001b[0mcontroller\u001b[0m\u001b[1;33m.\u001b[0m\u001b[0mbasal_bolus_controller\u001b[0m \u001b[1;32mimport\u001b[0m \u001b[0mBBController\u001b[0m\u001b[1;33m\u001b[0m\u001b[1;33m\u001b[0m\u001b[0m\n\u001b[0m\u001b[0;32m      2\u001b[0m \u001b[1;33m\u001b[0m\u001b[0m\n\u001b[0;32m      3\u001b[0m \u001b[0mcontroller\u001b[0m \u001b[1;33m=\u001b[0m \u001b[0mBBController\u001b[0m\u001b[1;33m(\u001b[0m\u001b[1;33m)\u001b[0m\u001b[1;33m\u001b[0m\u001b[1;33m\u001b[0m\u001b[0m\n",
      "\u001b[1;31mModuleNotFoundError\u001b[0m: No module named 'simglucose.controller.basal_bolus_controller'"
     ]
    }
   ],
   "source": [
    "from simglucose.controller.basal_bolus_controller import BBController\n",
    "\n",
    "controller = BBController()"
   ]
  },
  {
   "cell_type": "code",
   "execution_count": null,
   "id": "ac949c2d",
   "metadata": {},
   "outputs": [],
   "source": [
    "tot_reward = 0\n",
    "for t in range(28800):\n",
    "    env.render()\n",
    "    \n",
    "    action = controller.policy(observation, reward, done)\n",
    "    \n",
    "    observation, reward, done, info = env.step(action)\n",
    "    tot_reward += reward\n",
    "    if done:\n",
    "        print(\"Episode finished after {} timesteps\".format(t + 1))\n",
    "        break"
   ]
  },
  {
   "cell_type": "code",
   "execution_count": null,
   "id": "de4581b3",
   "metadata": {},
   "outputs": [],
   "source": [
    "tot_reward"
   ]
  },
  {
   "cell_type": "code",
   "execution_count": null,
   "id": "bf99c2b7",
   "metadata": {},
   "outputs": [],
   "source": []
  },
  {
   "cell_type": "code",
   "execution_count": null,
   "id": "b416f62f",
   "metadata": {},
   "outputs": [],
   "source": []
  }
 ],
 "metadata": {
  "kernelspec": {
   "display_name": "Python 3 (ipykernel)",
   "language": "python",
   "name": "python3"
  },
  "language_info": {
   "codemirror_mode": {
    "name": "ipython",
    "version": 3
   },
   "file_extension": ".py",
   "mimetype": "text/x-python",
   "name": "python",
   "nbconvert_exporter": "python",
   "pygments_lexer": "ipython3",
   "version": "3.9.7"
  }
 },
 "nbformat": 4,
 "nbformat_minor": 5
}
